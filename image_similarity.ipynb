{
 "cells": [
  {
   "cell_type": "code",
   "execution_count": 1,
   "metadata": {},
   "outputs": [],
   "source": [
    "import numpy as np\n",
    "import pandas as pd \n",
    "import warnings\n",
    "from skimage.metrics import structural_similarity,normalized_root_mse\n",
    "import cv2\n",
    "warnings.filterwarnings('ignore')\n",
    "pd.options.plotting.backend = \"plotly\"\n",
    "from PIL import Image\n",
    "from matplotlib import pyplot as plt"
   ]
  },
  {
   "cell_type": "code",
   "execution_count": 4,
   "metadata": {},
   "outputs": [
    {
     "data": {
      "image/png": "[encoded data removed]",
      "text/plain": [
       "<Figure size 432x288 with 1 Axes>"
      ]
     },
     "metadata": {
      "needs_background": "light"
     },
     "output_type": "display_data"
    }
   ],
   "source": [
    "pil_image = Image.open('white.jpg').convert('RGB') \n",
    "# Convert RGB to BGR \n",
    "opencvImage = cv2.cvtColor(np.array(pil_image), cv2.COLOR_RGB2BGR)\n",
    "\n",
    "plt.imshow(opencvImage)\n",
    "plt.title('my picture')\n",
    "plt.show()"
   ]
  },
  {
   "cell_type": "markdown",
   "metadata": {},
   "source": [
    "## Image Similarity Score"
   ]
  },
  {
   "cell_type": "code",
   "execution_count": 8,
   "metadata": {},
   "outputs": [],
   "source": [
    "def rgb_similarity(img_a,img_b):\n",
    "    img_a = Image.open(img_a)\n",
    "    img_b  = Image.open(img_b)\n",
    "    img_a = img_a.resize((500, 500))\n",
    "    img_b = img_b.resize((500, 500))\n",
    "    img1 = img_a.getcolors(maxcolors=img_a.size[0]*img_a.size[1])\n",
    "    img2 = img_b.getcolors(maxcolors=img_b.size[0]*img_b.size[1])\n",
    "    img1= dict(map(lambda x: (x[1],x[0]),img1))\n",
    "    img2 = dict(map(lambda x: (x[1],x[0]),img2))\n",
    "    results = []\n",
    "    anchor_list = list(set(list(img1.keys()) + list(img2.keys())))\n",
    "    for color in anchor_list:\n",
    "        if color in img1.keys() and color in img2.keys():\n",
    "            colorpixels1 = img1[color]/(500*500)\n",
    "            colorpixels2 = img2[color]/(500*500)\n",
    "            delta = abs(colorpixels1-colorpixels2)/(colorpixels1+colorpixels2)\n",
    "            results.append(delta)\n",
    "        else:\n",
    "            results.append(1) \n",
    "    return 1 - np.mean(results)\n",
    "\n",
    "def gray_scale_metrics(img_a,img_b):\n",
    "    try:\n",
    "        imageA = cv2.imread(img_a)\n",
    "        imageB = cv2.imread(img_b)\n",
    "        grayA = cv2.resize(cv2.cvtColor(imageA, cv2.COLOR_BGR2GRAY),(500,500))\n",
    "        grayB = cv2.resize(cv2.cvtColor(imageB, cv2.COLOR_BGR2GRAY),(500,500))  \n",
    "    except:\n",
    "        grayA = cv2.resize(cv2.cvtColor(np.array(Image.open(img_a)), cv2.COLOR_BGR2GRAY),(500,500))\n",
    "        grayB = cv2.resize(cv2.cvtColor(np.array(Image.open(img_b)), cv2.COLOR_BGR2GRAY),(500,500))\n",
    "    (score, diff) = structural_similarity(grayA, grayB, full=True)\n",
    "    return score,1-normalized_root_mse(grayA, grayB)\n",
    "\n",
    "\n",
    "def image_similarity(img_a,img_b):\n",
    "    a = rgb_similarity(img_a,img_b)\n",
    "    b,c = gray_scale_metrics(img_a,img_b)\n",
    "    print(a,b,c)\n",
    "    return (a+0.7*b+0.3*c)/2\n",
    "\n"
   ]
  },
  {
   "cell_type": "code",
   "execution_count": 9,
   "metadata": {},
   "outputs": [],
   "source": [
    "import requests\n",
    "from io import BytesIO\n",
    "def get_image_url(url:str):\n",
    "    image_data = requests.get(url)\n",
    "    img = BytesIO(image_data.content)\n",
    "    return img"
   ]
  },
  {
   "cell_type": "code",
   "execution_count": 3,
   "metadata": {},
   "outputs": [
    {
     "name": "stdout",
     "output_type": "stream",
     "text": [
      "0.13460546590827216 0.8709185993321812 0.78149663065624\n"
     ]
    },
    {
     "data": {
      "text/plain": [
       "0.48934873731883544"
      ]
     },
     "execution_count": 3,
     "metadata": {},
     "output_type": "execute_result"
    }
   ],
   "source": [
    "image_similarity('white.jpg','black.jpg')"
   ]
  },
  {
   "cell_type": "code",
   "execution_count": 11,
   "metadata": {},
   "outputs": [
    {
     "name": "stdout",
     "output_type": "stream",
     "text": [
      "0.02793572671100386 0.6889013747644691 0.7250113614622925\n"
     ]
    },
    {
     "data": {
      "text/plain": [
       "0.36383504874241"
      ]
     },
     "execution_count": 11,
     "metadata": {},
     "output_type": "execute_result"
    }
   ],
   "source": [
    "image_similarity('fita_1.jpeg','fita_2.jpeg')"
   ]
  }
 ],
 "metadata": {
  "kernelspec": {
   "display_name": "Python 3.9.2 64-bit",
   "language": "python",
   "name": "python3"
  },
  "language_info": {
   "codemirror_mode": {
    "name": "ipython",
    "version": 3
   },
   "file_extension": ".py",
   "mimetype": "text/x-python",
   "name": "python",
   "nbconvert_exporter": "python",
   "pygments_lexer": "ipython3",
   "version": "3.9.2"
  },
  "orig_nbformat": 4,
  "vscode": {
   "interpreter": {
    "hash": "d94dd623ed3b60412e923742e7bd0b8a9d7db377f4fcacb3cc176f98d3cd8c58"
   }
  }
 },
 "nbformat": 4,
 "nbformat_minor": 2
}
